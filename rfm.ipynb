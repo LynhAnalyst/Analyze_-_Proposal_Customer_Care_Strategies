{
 "cells": [
  {
   "cell_type": "code",
   "execution_count": 1,
   "metadata": {},
   "outputs": [],
   "source": [
    "# Import thư viện\n",
    "import pandas as pd\n",
    "import numpy as np\n",
    "import seaborn as sns\n",
    "from scipy.stats import norm\n",
    "import matplotlib.pyplot as plt\n",
    "import datetime as dt\n",
    "from sklearn.preprocessing import StandardScaler\n",
    "from sklearn.cluster import KMeans"
   ]
  },
  {
   "cell_type": "code",
   "execution_count": 2,
   "metadata": {},
   "outputs": [],
   "source": [
    "# Đọc dữ liệu\n",
    "file_path = 'D:/TTTN/CODE/Data Fixed/data_1.csv'\n",
    "df = pd.read_csv(file_path)"
   ]
  },
  {
   "cell_type": "markdown",
   "metadata": {},
   "source": [
    "### RFM Analysis"
   ]
  },
  {
   "cell_type": "markdown",
   "metadata": {},
   "source": [
    "Recency"
   ]
  },
  {
   "cell_type": "code",
   "execution_count": 3,
   "metadata": {},
   "outputs": [],
   "source": [
    "# Tính giá trị Recency\n",
    "df['Date Created'] = pd.to_datetime(df['Date Created'])\n",
    "maximum = max(df['Date Created'])\n",
    "maximum = maximum + pd.DateOffset(days = 1)\n",
    "df['Distance'] = maximum - df['Date Created']"
   ]
  },
  {
   "cell_type": "code",
   "execution_count": 4,
   "metadata": {},
   "outputs": [
    {
     "data": {
      "text/html": [
       "<div>\n",
       "<style scoped>\n",
       "    .dataframe tbody tr th:only-of-type {\n",
       "        vertical-align: middle;\n",
       "    }\n",
       "\n",
       "    .dataframe tbody tr th {\n",
       "        vertical-align: top;\n",
       "    }\n",
       "\n",
       "    .dataframe thead th {\n",
       "        text-align: right;\n",
       "    }\n",
       "</style>\n",
       "<table border=\"1\" class=\"dataframe\">\n",
       "  <thead>\n",
       "    <tr style=\"text-align: right;\">\n",
       "      <th></th>\n",
       "      <th>Customer ID</th>\n",
       "      <th>Recency</th>\n",
       "    </tr>\n",
       "  </thead>\n",
       "  <tbody>\n",
       "    <tr>\n",
       "      <th>0</th>\n",
       "      <td>CUS0000245</td>\n",
       "      <td>260</td>\n",
       "    </tr>\n",
       "    <tr>\n",
       "      <th>1</th>\n",
       "      <td>CUS0000577</td>\n",
       "      <td>383</td>\n",
       "    </tr>\n",
       "    <tr>\n",
       "      <th>2</th>\n",
       "      <td>CUS0001401</td>\n",
       "      <td>487</td>\n",
       "    </tr>\n",
       "    <tr>\n",
       "      <th>3</th>\n",
       "      <td>CUS0002484</td>\n",
       "      <td>119</td>\n",
       "    </tr>\n",
       "    <tr>\n",
       "      <th>4</th>\n",
       "      <td>CUS0002582</td>\n",
       "      <td>490</td>\n",
       "    </tr>\n",
       "  </tbody>\n",
       "</table>\n",
       "</div>"
      ],
      "text/plain": [
       "  Customer ID  Recency\n",
       "0  CUS0000245      260\n",
       "1  CUS0000577      383\n",
       "2  CUS0001401      487\n",
       "3  CUS0002484      119\n",
       "4  CUS0002582      490"
      ]
     },
     "execution_count": 4,
     "metadata": {},
     "output_type": "execute_result"
    }
   ],
   "source": [
    "recency = df.groupby(\"Customer ID\").Distance.min()\n",
    "recency = recency.reset_index().rename(columns={\"Distance\": \"Recency\"})\n",
    "recency['Recency'] = recency['Recency'].dt.days\n",
    "\n",
    "recency.head()"
   ]
  },
  {
   "cell_type": "markdown",
   "metadata": {},
   "source": [
    "Frequency"
   ]
  },
  {
   "cell_type": "code",
   "execution_count": 5,
   "metadata": {},
   "outputs": [
    {
     "data": {
      "text/html": [
       "<div>\n",
       "<style scoped>\n",
       "    .dataframe tbody tr th:only-of-type {\n",
       "        vertical-align: middle;\n",
       "    }\n",
       "\n",
       "    .dataframe tbody tr th {\n",
       "        vertical-align: top;\n",
       "    }\n",
       "\n",
       "    .dataframe thead th {\n",
       "        text-align: right;\n",
       "    }\n",
       "</style>\n",
       "<table border=\"1\" class=\"dataframe\">\n",
       "  <thead>\n",
       "    <tr style=\"text-align: right;\">\n",
       "      <th></th>\n",
       "      <th>Customer ID</th>\n",
       "      <th>Frequency</th>\n",
       "    </tr>\n",
       "  </thead>\n",
       "  <tbody>\n",
       "    <tr>\n",
       "      <th>0</th>\n",
       "      <td>CUS0000245</td>\n",
       "      <td>5</td>\n",
       "    </tr>\n",
       "    <tr>\n",
       "      <th>1</th>\n",
       "      <td>CUS0000577</td>\n",
       "      <td>5</td>\n",
       "    </tr>\n",
       "    <tr>\n",
       "      <th>2</th>\n",
       "      <td>CUS0001401</td>\n",
       "      <td>12</td>\n",
       "    </tr>\n",
       "    <tr>\n",
       "      <th>3</th>\n",
       "      <td>CUS0002484</td>\n",
       "      <td>3</td>\n",
       "    </tr>\n",
       "    <tr>\n",
       "      <th>4</th>\n",
       "      <td>CUS0002582</td>\n",
       "      <td>3</td>\n",
       "    </tr>\n",
       "  </tbody>\n",
       "</table>\n",
       "</div>"
      ],
      "text/plain": [
       "  Customer ID  Frequency\n",
       "0  CUS0000245          5\n",
       "1  CUS0000577          5\n",
       "2  CUS0001401         12\n",
       "3  CUS0002484          3\n",
       "4  CUS0002582          3"
      ]
     },
     "execution_count": 5,
     "metadata": {},
     "output_type": "execute_result"
    }
   ],
   "source": [
    "# Tính toán giá trị Frequency\n",
    "freq = df.groupby(\"Customer ID\")[\"Transaction Code\"].count()\n",
    "freq = freq.reset_index().rename(columns={\"Transaction Code\": \"Frequency\"})\n",
    "\n",
    "freq.head()"
   ]
  },
  {
   "cell_type": "markdown",
   "metadata": {},
   "source": [
    "Monetary"
   ]
  },
  {
   "cell_type": "code",
   "execution_count": 6,
   "metadata": {},
   "outputs": [
    {
     "data": {
      "text/html": [
       "<div>\n",
       "<style scoped>\n",
       "    .dataframe tbody tr th:only-of-type {\n",
       "        vertical-align: middle;\n",
       "    }\n",
       "\n",
       "    .dataframe tbody tr th {\n",
       "        vertical-align: top;\n",
       "    }\n",
       "\n",
       "    .dataframe thead th {\n",
       "        text-align: right;\n",
       "    }\n",
       "</style>\n",
       "<table border=\"1\" class=\"dataframe\">\n",
       "  <thead>\n",
       "    <tr style=\"text-align: right;\">\n",
       "      <th></th>\n",
       "      <th>Customer ID</th>\n",
       "      <th>Monetary</th>\n",
       "    </tr>\n",
       "  </thead>\n",
       "  <tbody>\n",
       "    <tr>\n",
       "      <th>0</th>\n",
       "      <td>CUS0000245</td>\n",
       "      <td>6144167.0</td>\n",
       "    </tr>\n",
       "    <tr>\n",
       "      <th>1</th>\n",
       "      <td>CUS0000577</td>\n",
       "      <td>2592129.0</td>\n",
       "    </tr>\n",
       "    <tr>\n",
       "      <th>2</th>\n",
       "      <td>CUS0001401</td>\n",
       "      <td>3503699.0</td>\n",
       "    </tr>\n",
       "    <tr>\n",
       "      <th>3</th>\n",
       "      <td>CUS0002484</td>\n",
       "      <td>748611.0</td>\n",
       "    </tr>\n",
       "    <tr>\n",
       "      <th>4</th>\n",
       "      <td>CUS0002582</td>\n",
       "      <td>1604195.0</td>\n",
       "    </tr>\n",
       "  </tbody>\n",
       "</table>\n",
       "</div>"
      ],
      "text/plain": [
       "  Customer ID   Monetary\n",
       "0  CUS0000245  6144167.0\n",
       "1  CUS0000577  2592129.0\n",
       "2  CUS0001401  3503699.0\n",
       "3  CUS0002484   748611.0\n",
       "4  CUS0002582  1604195.0"
      ]
     },
     "execution_count": 6,
     "metadata": {},
     "output_type": "execute_result"
    }
   ],
   "source": [
    "# Tính toán giá trị Monetary\n",
    "df[\"TotalPrice\"] = df[\"Quantity\"] * df[\"Giá bán lẻ\"]\n",
    "monetary = df.groupby(\"Customer ID\").TotalPrice.sum()\n",
    "monetary = monetary.reset_index().rename(columns={\"TotalPrice\": \"Monetary\"})\n",
    "\n",
    "monetary.head()"
   ]
  },
  {
   "cell_type": "code",
   "execution_count": 7,
   "metadata": {},
   "outputs": [
    {
     "data": {
      "text/html": [
       "<div>\n",
       "<style scoped>\n",
       "    .dataframe tbody tr th:only-of-type {\n",
       "        vertical-align: middle;\n",
       "    }\n",
       "\n",
       "    .dataframe tbody tr th {\n",
       "        vertical-align: top;\n",
       "    }\n",
       "\n",
       "    .dataframe thead th {\n",
       "        text-align: right;\n",
       "    }\n",
       "</style>\n",
       "<table border=\"1\" class=\"dataframe\">\n",
       "  <thead>\n",
       "    <tr style=\"text-align: right;\">\n",
       "      <th></th>\n",
       "      <th>Customer ID</th>\n",
       "      <th>Recency</th>\n",
       "      <th>Frequency</th>\n",
       "      <th>Monetary</th>\n",
       "    </tr>\n",
       "  </thead>\n",
       "  <tbody>\n",
       "    <tr>\n",
       "      <th>0</th>\n",
       "      <td>CUS0000245</td>\n",
       "      <td>260</td>\n",
       "      <td>5</td>\n",
       "      <td>6144167.0</td>\n",
       "    </tr>\n",
       "    <tr>\n",
       "      <th>1</th>\n",
       "      <td>CUS0000577</td>\n",
       "      <td>383</td>\n",
       "      <td>5</td>\n",
       "      <td>2592129.0</td>\n",
       "    </tr>\n",
       "    <tr>\n",
       "      <th>2</th>\n",
       "      <td>CUS0001401</td>\n",
       "      <td>487</td>\n",
       "      <td>12</td>\n",
       "      <td>3503699.0</td>\n",
       "    </tr>\n",
       "    <tr>\n",
       "      <th>3</th>\n",
       "      <td>CUS0002484</td>\n",
       "      <td>119</td>\n",
       "      <td>3</td>\n",
       "      <td>748611.0</td>\n",
       "    </tr>\n",
       "    <tr>\n",
       "      <th>4</th>\n",
       "      <td>CUS0002582</td>\n",
       "      <td>490</td>\n",
       "      <td>3</td>\n",
       "      <td>1604195.0</td>\n",
       "    </tr>\n",
       "  </tbody>\n",
       "</table>\n",
       "</div>"
      ],
      "text/plain": [
       "  Customer ID  Recency  Frequency   Monetary\n",
       "0  CUS0000245      260          5  6144167.0\n",
       "1  CUS0000577      383          5  2592129.0\n",
       "2  CUS0001401      487         12  3503699.0\n",
       "3  CUS0002484      119          3   748611.0\n",
       "4  CUS0002582      490          3  1604195.0"
      ]
     },
     "execution_count": 7,
     "metadata": {},
     "output_type": "execute_result"
    }
   ],
   "source": [
    "rf = recency.merge(freq, left_on=\"Customer ID\", right_on=\"Customer ID\")\n",
    "rfm = rf.merge(monetary, left_on=\"Customer ID\", right_on=\"Customer ID\")\n",
    "rfm.columns = ['Customer ID', 'Recency', 'Frequency', 'Monetary']\n",
    "\n",
    "rfm.head()"
   ]
  },
  {
   "cell_type": "code",
   "execution_count": 8,
   "metadata": {},
   "outputs": [
    {
     "name": "stdout",
     "output_type": "stream",
     "text": [
      "<class 'pandas.core.frame.DataFrame'>\n",
      "RangeIndex: 4695 entries, 0 to 4694\n",
      "Data columns (total 4 columns):\n",
      " #   Column       Non-Null Count  Dtype  \n",
      "---  ------       --------------  -----  \n",
      " 0   Customer ID  4695 non-null   object \n",
      " 1   Recency      4695 non-null   int64  \n",
      " 2   Frequency    4695 non-null   int64  \n",
      " 3   Monetary     4695 non-null   float64\n",
      "dtypes: float64(1), int64(2), object(1)\n",
      "memory usage: 146.8+ KB\n"
     ]
    }
   ],
   "source": [
    "rfm.info()"
   ]
  },
  {
   "cell_type": "code",
   "execution_count": 9,
   "metadata": {},
   "outputs": [
    {
     "data": {
      "text/plain": [
       "{'whiskers': [<matplotlib.lines.Line2D at 0x179b10ec6d0>,\n",
       "  <matplotlib.lines.Line2D at 0x179b10ec970>],\n",
       " 'caps': [<matplotlib.lines.Line2D at 0x179b10ecc10>,\n",
       "  <matplotlib.lines.Line2D at 0x179b10eceb0>],\n",
       " 'boxes': [<matplotlib.lines.Line2D at 0x179b10ec430>],\n",
       " 'medians': [<matplotlib.lines.Line2D at 0x179b1108190>],\n",
       " 'fliers': [<matplotlib.lines.Line2D at 0x179b1108430>],\n",
       " 'means': []}"
      ]
     },
     "execution_count": 9,
     "metadata": {},
     "output_type": "execute_result"
    },
    {
     "data": {
      "image/png": "[encoded data removed]",
      "text/plain": [
       "<Figure size 900x600 with 1 Axes>"
      ]
     },
     "metadata": {},
     "output_type": "display_data"
    }
   ],
   "source": [
    "fig = plt.figure(1, figsize=(9, 6))\n",
    "plt.boxplot(rfm['Recency'])"
   ]
  },
  {
   "cell_type": "code",
   "execution_count": 10,
   "metadata": {},
   "outputs": [
    {
     "data": {
      "text/plain": [
       "{'whiskers': [<matplotlib.lines.Line2D at 0x179b115f0d0>,\n",
       "  <matplotlib.lines.Line2D at 0x179b115f3a0>],\n",
       " 'caps': [<matplotlib.lines.Line2D at 0x179b115f640>,\n",
       "  <matplotlib.lines.Line2D at 0x179b115f8e0>],\n",
       " 'boxes': [<matplotlib.lines.Line2D at 0x179b114fdf0>],\n",
       " 'medians': [<matplotlib.lines.Line2D at 0x179b115fb80>],\n",
       " 'fliers': [<matplotlib.lines.Line2D at 0x179b115fe20>],\n",
       " 'means': []}"
      ]
     },
     "execution_count": 10,
     "metadata": {},
     "output_type": "execute_result"
    },
    {
     "data": {
      "image/png": "[encoded data removed]",
      "text/plain": [
       "<Figure size 900x600 with 1 Axes>"
      ]
     },
     "metadata": {},
     "output_type": "display_data"
    }
   ],
   "source": [
    "fig = plt.figure(1, figsize=(9, 6))\n",
    "plt.boxplot(rfm['Frequency'])"
   ]
  },
  {
   "cell_type": "code",
   "execution_count": 11,
   "metadata": {},
   "outputs": [
    {
     "data": {
      "text/plain": [
       "{'whiskers': [<matplotlib.lines.Line2D at 0x179b157e340>,\n",
       "  <matplotlib.lines.Line2D at 0x179b157e490>],\n",
       " 'caps': [<matplotlib.lines.Line2D at 0x179b157e790>,\n",
       "  <matplotlib.lines.Line2D at 0x179b157ea30>],\n",
       " 'boxes': [<matplotlib.lines.Line2D at 0x179b157e0a0>],\n",
       " 'medians': [<matplotlib.lines.Line2D at 0x179b157ecd0>],\n",
       " 'fliers': [<matplotlib.lines.Line2D at 0x179b157ef70>],\n",
       " 'means': []}"
      ]
     },
     "execution_count": 11,
     "metadata": {},
     "output_type": "execute_result"
    },
    {
     "data": {
      "image/png": "[encoded data removed]",
      "text/plain": [
       "<Figure size 900x600 with 1 Axes>"
      ]
     },
     "metadata": {},
     "output_type": "display_data"
    }
   ],
   "source": [
    "fig = plt.figure(1, figsize=(9, 6))\n",
    "plt.boxplot(rfm['Monetary'])"
   ]
  },
  {
   "cell_type": "code",
   "execution_count": 12,
   "metadata": {},
   "outputs": [],
   "source": [
    "# Xử lý outlier Frequency\n",
    "q1 = rfm['Frequency'].quantile(0.25)\n",
    "q3 = rfm['Frequency'].quantile(0.75)\n",
    "iqr = q3 - q1\n",
    "rfm = rfm[(rfm['Frequency'] >= q1 - 1.5*iqr) & (rfm['Frequency'] <= q3 + 1.5*iqr)]"
   ]
  },
  {
   "cell_type": "code",
   "execution_count": 13,
   "metadata": {},
   "outputs": [],
   "source": [
    "# Xử lý outlier cho Monetary\n",
    "q1 = rfm['Monetary'].quantile(0.25)\n",
    "q3 = rfm['Monetary'].quantile(0.75)\n",
    "iqr = q3 - q1\n",
    "rfm = rfm[(rfm['Monetary'] >= q1 - 1.5*iqr) & (rfm['Monetary'] <= q3 + 1.5*iqr)]"
   ]
  },
  {
   "cell_type": "code",
   "execution_count": 14,
   "metadata": {},
   "outputs": [
    {
     "data": {
      "text/plain": [
       "{'whiskers': [<matplotlib.lines.Line2D at 0x179b1693f40>,\n",
       "  <matplotlib.lines.Line2D at 0x179b16a4220>],\n",
       " 'caps': [<matplotlib.lines.Line2D at 0x179b16a44c0>,\n",
       "  <matplotlib.lines.Line2D at 0x179b16a4760>],\n",
       " 'boxes': [<matplotlib.lines.Line2D at 0x179b1693ca0>],\n",
       " 'medians': [<matplotlib.lines.Line2D at 0x179b16a4a00>],\n",
       " 'fliers': [<matplotlib.lines.Line2D at 0x179b16a4ca0>],\n",
       " 'means': []}"
      ]
     },
     "execution_count": 14,
     "metadata": {},
     "output_type": "execute_result"
    },
    {
     "data": {
      "image/png": "[encoded data removed]",
      "text/plain": [
       "<Figure size 900x600 with 1 Axes>"
      ]
     },
     "metadata": {},
     "output_type": "display_data"
    },
    {
     "data": {
      "image/png": "[encoded data removed]",
      "text/plain": [
       "<Figure size 900x600 with 1 Axes>"
      ]
     },
     "metadata": {},
     "output_type": "display_data"
    },
    {
     "data": {
      "image/png": "[encoded data removed]",
      "text/plain": [
       "<Figure size 900x600 with 1 Axes>"
      ]
     },
     "metadata": {},
     "output_type": "display_data"
    }
   ],
   "source": [
    "# Mô tả lại dữ liệu rfm sau khi xử lý\n",
    "fig = plt.figure(3, figsize=(9, 6))\n",
    "plt.boxplot(rfm['Recency'])\n",
    "\n",
    "fig = plt.figure(2, figsize=(9, 6))\n",
    "plt.boxplot(rfm['Frequency'])\n",
    "\n",
    "fig = plt.figure(1, figsize=(9, 6))\n",
    "plt.boxplot(rfm['Monetary'])"
   ]
  },
  {
   "cell_type": "code",
   "execution_count": 15,
   "metadata": {},
   "outputs": [],
   "source": [
    "# Chuẩn hóa dữ liệu rfm sau khi xử lý outlier\n",
    "RFM_Clustering = rfm[['Recency', 'Frequency', 'Monetary']]\n",
    "scaler = StandardScaler()\n",
    "RFM_Clustering_scaler = scaler.fit_transform(RFM_Clustering)"
   ]
  },
  {
   "cell_type": "code",
   "execution_count": 16,
   "metadata": {},
   "outputs": [
    {
     "data": {
      "text/plain": [
       "(4047, 3)"
      ]
     },
     "execution_count": 16,
     "metadata": {},
     "output_type": "execute_result"
    }
   ],
   "source": [
    "RFM_Clustering_scaler.shape"
   ]
  },
  {
   "cell_type": "code",
   "execution_count": 17,
   "metadata": {},
   "outputs": [
    {
     "data": {
      "text/html": [
       "<div>\n",
       "<style scoped>\n",
       "    .dataframe tbody tr th:only-of-type {\n",
       "        vertical-align: middle;\n",
       "    }\n",
       "\n",
       "    .dataframe tbody tr th {\n",
       "        vertical-align: top;\n",
       "    }\n",
       "\n",
       "    .dataframe thead th {\n",
       "        text-align: right;\n",
       "    }\n",
       "</style>\n",
       "<table border=\"1\" class=\"dataframe\">\n",
       "  <thead>\n",
       "    <tr style=\"text-align: right;\">\n",
       "      <th></th>\n",
       "      <th>Recency</th>\n",
       "      <th>Frequency</th>\n",
       "      <th>Monetary</th>\n",
       "    </tr>\n",
       "  </thead>\n",
       "  <tbody>\n",
       "    <tr>\n",
       "      <th>0</th>\n",
       "      <td>0.055439</td>\n",
       "      <td>-0.113060</td>\n",
       "      <td>0.808500</td>\n",
       "    </tr>\n",
       "    <tr>\n",
       "      <th>1</th>\n",
       "      <td>0.425598</td>\n",
       "      <td>1.763258</td>\n",
       "      <td>1.613594</td>\n",
       "    </tr>\n",
       "    <tr>\n",
       "      <th>2</th>\n",
       "      <td>-0.884194</td>\n",
       "      <td>-0.649151</td>\n",
       "      <td>-0.819687</td>\n",
       "    </tr>\n",
       "    <tr>\n",
       "      <th>3</th>\n",
       "      <td>0.436275</td>\n",
       "      <td>-0.649151</td>\n",
       "      <td>-0.064039</td>\n",
       "    </tr>\n",
       "    <tr>\n",
       "      <th>4</th>\n",
       "      <td>-0.873516</td>\n",
       "      <td>-0.649151</td>\n",
       "      <td>-0.605594</td>\n",
       "    </tr>\n",
       "  </tbody>\n",
       "</table>\n",
       "</div>"
      ],
      "text/plain": [
       "    Recency  Frequency  Monetary\n",
       "0  0.055439  -0.113060  0.808500\n",
       "1  0.425598   1.763258  1.613594\n",
       "2 -0.884194  -0.649151 -0.819687\n",
       "3  0.436275  -0.649151 -0.064039\n",
       "4 -0.873516  -0.649151 -0.605594"
      ]
     },
     "execution_count": 17,
     "metadata": {},
     "output_type": "execute_result"
    }
   ],
   "source": [
    "RFM_Clustering_scaler = pd.DataFrame(RFM_Clustering_scaler)\n",
    "RFM_Clustering_scaler.columns = ['Recency', 'Frequency','Monetary']\n",
    "RFM_Clustering_scaler.head()"
   ]
  },
  {
   "cell_type": "code",
   "execution_count": 18,
   "metadata": {},
   "outputs": [
    {
     "name": "stderr",
     "output_type": "stream",
     "text": [
      "c:\\Users\\fna\\AppData\\Local\\Programs\\Python\\Python38\\lib\\site-packages\\sklearn\\cluster\\_kmeans.py:1416: FutureWarning: The default value of `n_init` will change from 10 to 'auto' in 1.4. Set the value of `n_init` explicitly to suppress the warning\n",
      "  super()._check_params_vs_input(X, default_n_init=10)\n",
      "c:\\Users\\fna\\AppData\\Local\\Programs\\Python\\Python38\\lib\\site-packages\\sklearn\\cluster\\_kmeans.py:1416: FutureWarning: The default value of `n_init` will change from 10 to 'auto' in 1.4. Set the value of `n_init` explicitly to suppress the warning\n",
      "  super()._check_params_vs_input(X, default_n_init=10)\n",
      "c:\\Users\\fna\\AppData\\Local\\Programs\\Python\\Python38\\lib\\site-packages\\sklearn\\cluster\\_kmeans.py:1416: FutureWarning: The default value of `n_init` will change from 10 to 'auto' in 1.4. Set the value of `n_init` explicitly to suppress the warning\n",
      "  super()._check_params_vs_input(X, default_n_init=10)\n",
      "c:\\Users\\fna\\AppData\\Local\\Programs\\Python\\Python38\\lib\\site-packages\\sklearn\\cluster\\_kmeans.py:1416: FutureWarning: The default value of `n_init` will change from 10 to 'auto' in 1.4. Set the value of `n_init` explicitly to suppress the warning\n",
      "  super()._check_params_vs_input(X, default_n_init=10)\n",
      "c:\\Users\\fna\\AppData\\Local\\Programs\\Python\\Python38\\lib\\site-packages\\sklearn\\cluster\\_kmeans.py:1416: FutureWarning: The default value of `n_init` will change from 10 to 'auto' in 1.4. Set the value of `n_init` explicitly to suppress the warning\n",
      "  super()._check_params_vs_input(X, default_n_init=10)\n",
      "c:\\Users\\fna\\AppData\\Local\\Programs\\Python\\Python38\\lib\\site-packages\\sklearn\\cluster\\_kmeans.py:1416: FutureWarning: The default value of `n_init` will change from 10 to 'auto' in 1.4. Set the value of `n_init` explicitly to suppress the warning\n",
      "  super()._check_params_vs_input(X, default_n_init=10)\n",
      "c:\\Users\\fna\\AppData\\Local\\Programs\\Python\\Python38\\lib\\site-packages\\sklearn\\cluster\\_kmeans.py:1416: FutureWarning: The default value of `n_init` will change from 10 to 'auto' in 1.4. Set the value of `n_init` explicitly to suppress the warning\n",
      "  super()._check_params_vs_input(X, default_n_init=10)\n"
     ]
    },
    {
     "data": {
      "text/plain": [
       "[<matplotlib.lines.Line2D at 0x179b1a61b20>]"
      ]
     },
     "execution_count": 18,
     "metadata": {},
     "output_type": "execute_result"
    },
    {
     "data": {
      "image/png": "[encoded data removed]",
      "text/plain": [
       "<Figure size 640x480 with 1 Axes>"
      ]
     },
     "metadata": {},
     "output_type": "display_data"
    }
   ],
   "source": [
    "# Tìm số cụm tối ưu\n",
    "a = []\n",
    "range_n_cluster = [2,3,4,5,6,7,8]\n",
    "for i in range_n_cluster:\n",
    "    kmeans = KMeans(n_clusters=i, max_iter=50)\n",
    "    kmeans.fit(RFM_Clustering_scaler)\n",
    "    a.append(kmeans.inertia_)\n",
    "plt.plot(a)"
   ]
  },
  {
   "cell_type": "code",
   "execution_count": 19,
   "metadata": {},
   "outputs": [
    {
     "name": "stderr",
     "output_type": "stream",
     "text": [
      "c:\\Users\\fna\\AppData\\Local\\Programs\\Python\\Python38\\lib\\site-packages\\sklearn\\cluster\\_kmeans.py:1416: FutureWarning: The default value of `n_init` will change from 10 to 'auto' in 1.4. Set the value of `n_init` explicitly to suppress the warning\n",
      "  super()._check_params_vs_input(X, default_n_init=10)\n"
     ]
    },
    {
     "data": {
      "text/html": [
       "<style>#sk-container-id-1 {color: black;}#sk-container-id-1 pre{padding: 0;}#sk-container-id-1 div.sk-toggleable {background-color: white;}#sk-container-id-1 label.sk-toggleable__label {cursor: pointer;display: block;width: 100%;margin-bottom: 0;padding: 0.3em;box-sizing: border-box;text-align: center;}#sk-container-id-1 label.sk-toggleable__label-arrow:before {content: \"▸\";float: left;margin-right: 0.25em;color: #696969;}#sk-container-id-1 label.sk-toggleable__label-arrow:hover:before {color: black;}#sk-container-id-1 div.sk-estimator:hover label.sk-toggleable__label-arrow:before {color: black;}#sk-container-id-1 div.sk-toggleable__content {max-height: 0;max-width: 0;overflow: hidden;text-align: left;background-color: #f0f8ff;}#sk-container-id-1 div.sk-toggleable__content pre {margin: 0.2em;color: black;border-radius: 0.25em;background-color: #f0f8ff;}#sk-container-id-1 input.sk-toggleable__control:checked~div.sk-toggleable__content {max-height: 200px;max-width: 100%;overflow: auto;}#sk-container-id-1 input.sk-toggleable__control:checked~label.sk-toggleable__label-arrow:before {content: \"▾\";}#sk-container-id-1 div.sk-estimator input.sk-toggleable__control:checked~label.sk-toggleable__label {background-color: #d4ebff;}#sk-container-id-1 div.sk-label input.sk-toggleable__control:checked~label.sk-toggleable__label {background-color: #d4ebff;}#sk-container-id-1 input.sk-hidden--visually {border: 0;clip: rect(1px 1px 1px 1px);clip: rect(1px, 1px, 1px, 1px);height: 1px;margin: -1px;overflow: hidden;padding: 0;position: absolute;width: 1px;}#sk-container-id-1 div.sk-estimator {font-family: monospace;background-color: #f0f8ff;border: 1px dotted black;border-radius: 0.25em;box-sizing: border-box;margin-bottom: 0.5em;}#sk-container-id-1 div.sk-estimator:hover {background-color: #d4ebff;}#sk-container-id-1 div.sk-parallel-item::after {content: \"\";width: 100%;border-bottom: 1px solid gray;flex-grow: 1;}#sk-container-id-1 div.sk-label:hover label.sk-toggleable__label {background-color: #d4ebff;}#sk-container-id-1 div.sk-serial::before {content: \"\";position: absolute;border-left: 1px solid gray;box-sizing: border-box;top: 0;bottom: 0;left: 50%;z-index: 0;}#sk-container-id-1 div.sk-serial {display: flex;flex-direction: column;align-items: center;background-color: white;padding-right: 0.2em;padding-left: 0.2em;position: relative;}#sk-container-id-1 div.sk-item {position: relative;z-index: 1;}#sk-container-id-1 div.sk-parallel {display: flex;align-items: stretch;justify-content: center;background-color: white;position: relative;}#sk-container-id-1 div.sk-item::before, #sk-container-id-1 div.sk-parallel-item::before {content: \"\";position: absolute;border-left: 1px solid gray;box-sizing: border-box;top: 0;bottom: 0;left: 50%;z-index: -1;}#sk-container-id-1 div.sk-parallel-item {display: flex;flex-direction: column;z-index: 1;position: relative;background-color: white;}#sk-container-id-1 div.sk-parallel-item:first-child::after {align-self: flex-end;width: 50%;}#sk-container-id-1 div.sk-parallel-item:last-child::after {align-self: flex-start;width: 50%;}#sk-container-id-1 div.sk-parallel-item:only-child::after {width: 0;}#sk-container-id-1 div.sk-dashed-wrapped {border: 1px dashed gray;margin: 0 0.4em 0.5em 0.4em;box-sizing: border-box;padding-bottom: 0.4em;background-color: white;}#sk-container-id-1 div.sk-label label {font-family: monospace;font-weight: bold;display: inline-block;line-height: 1.2em;}#sk-container-id-1 div.sk-label-container {text-align: center;}#sk-container-id-1 div.sk-container {/* jupyter's `normalize.less` sets `[hidden] { display: none; }` but bootstrap.min.css set `[hidden] { display: none !important; }` so we also need the `!important` here to be able to override the default hidden behavior on the sphinx rendered scikit-learn.org. See: https://github.com/scikit-learn/scikit-learn/issues/21755 */display: inline-block !important;position: relative;}#sk-container-id-1 div.sk-text-repr-fallback {display: none;}</style><div id=\"sk-container-id-1\" class=\"sk-top-container\"><div class=\"sk-text-repr-fallback\"><pre>KMeans(max_iter=50, n_clusters=3)</pre><b>In a Jupyter environment, please rerun this cell to show the HTML representation or trust the notebook. <br />On GitHub, the HTML representation is unable to render, please try loading this page with nbviewer.org.</b></div><div class=\"sk-container\" hidden><div class=\"sk-item\"><div class=\"sk-estimator sk-toggleable\"><input class=\"sk-toggleable__control sk-hidden--visually\" id=\"sk-estimator-id-1\" type=\"checkbox\" checked><label for=\"sk-estimator-id-1\" class=\"sk-toggleable__label sk-toggleable__label-arrow\">KMeans</label><div class=\"sk-toggleable__content\"><pre>KMeans(max_iter=50, n_clusters=3)</pre></div></div></div></div></div>"
      ],
      "text/plain": [
       "KMeans(max_iter=50, n_clusters=3)"
      ]
     },
     "execution_count": 19,
     "metadata": {},
     "output_type": "execute_result"
    }
   ],
   "source": [
    "# Xây dựng mô hình\n",
    "kmeans = KMeans(n_clusters=3, max_iter=50)\n",
    "kmeans.fit(RFM_Clustering_scaler)"
   ]
  },
  {
   "cell_type": "code",
   "execution_count": 20,
   "metadata": {},
   "outputs": [
    {
     "data": {
      "text/html": [
       "<div>\n",
       "<style scoped>\n",
       "    .dataframe tbody tr th:only-of-type {\n",
       "        vertical-align: middle;\n",
       "    }\n",
       "\n",
       "    .dataframe tbody tr th {\n",
       "        vertical-align: top;\n",
       "    }\n",
       "\n",
       "    .dataframe thead th {\n",
       "        text-align: right;\n",
       "    }\n",
       "</style>\n",
       "<table border=\"1\" class=\"dataframe\">\n",
       "  <thead>\n",
       "    <tr style=\"text-align: right;\">\n",
       "      <th></th>\n",
       "      <th>Customer ID</th>\n",
       "      <th>Recency</th>\n",
       "      <th>Frequency</th>\n",
       "      <th>Monetary</th>\n",
       "      <th>Cluster ID</th>\n",
       "    </tr>\n",
       "  </thead>\n",
       "  <tbody>\n",
       "    <tr>\n",
       "      <th>1</th>\n",
       "      <td>CUS0000577</td>\n",
       "      <td>383</td>\n",
       "      <td>5</td>\n",
       "      <td>2592129.0</td>\n",
       "      <td>2</td>\n",
       "    </tr>\n",
       "    <tr>\n",
       "      <th>2</th>\n",
       "      <td>CUS0001401</td>\n",
       "      <td>487</td>\n",
       "      <td>12</td>\n",
       "      <td>3503699.0</td>\n",
       "      <td>0</td>\n",
       "    </tr>\n",
       "    <tr>\n",
       "      <th>3</th>\n",
       "      <td>CUS0002484</td>\n",
       "      <td>119</td>\n",
       "      <td>3</td>\n",
       "      <td>748611.0</td>\n",
       "      <td>2</td>\n",
       "    </tr>\n",
       "    <tr>\n",
       "      <th>4</th>\n",
       "      <td>CUS0002582</td>\n",
       "      <td>490</td>\n",
       "      <td>3</td>\n",
       "      <td>1604195.0</td>\n",
       "      <td>1</td>\n",
       "    </tr>\n",
       "    <tr>\n",
       "      <th>5</th>\n",
       "      <td>CUS0002739</td>\n",
       "      <td>122</td>\n",
       "      <td>3</td>\n",
       "      <td>991018.0</td>\n",
       "      <td>2</td>\n",
       "    </tr>\n",
       "  </tbody>\n",
       "</table>\n",
       "</div>"
      ],
      "text/plain": [
       "  Customer ID  Recency  Frequency   Monetary  Cluster ID\n",
       "1  CUS0000577      383          5  2592129.0           2\n",
       "2  CUS0001401      487         12  3503699.0           0\n",
       "3  CUS0002484      119          3   748611.0           2\n",
       "4  CUS0002582      490          3  1604195.0           1\n",
       "5  CUS0002739      122          3   991018.0           2"
      ]
     },
     "execution_count": 20,
     "metadata": {},
     "output_type": "execute_result"
    }
   ],
   "source": [
    "rfm['Cluster ID'] = kmeans.labels_\n",
    "rfm.head()"
   ]
  },
  {
   "cell_type": "code",
   "execution_count": 21,
   "metadata": {},
   "outputs": [
    {
     "data": {
      "text/plain": [
       "<Axes: xlabel='Cluster ID', ylabel='Recency'>"
      ]
     },
     "execution_count": 21,
     "metadata": {},
     "output_type": "execute_result"
    },
    {
     "data": {
      "image/png": "[encoded data removed]",
      "text/plain": [
       "<Figure size 640x480 with 1 Axes>"
      ]
     },
     "metadata": {},
     "output_type": "display_data"
    }
   ],
   "source": [
    "# Mô tả dữ liệu sau khi đã phân cụm\n",
    "sns.boxplot(x = rfm['Cluster ID'], y = rfm['Recency'])"
   ]
  },
  {
   "cell_type": "code",
   "execution_count": 22,
   "metadata": {},
   "outputs": [
    {
     "data": {
      "text/plain": [
       "<Axes: xlabel='Cluster ID', ylabel='Frequency'>"
      ]
     },
     "execution_count": 22,
     "metadata": {},
     "output_type": "execute_result"
    },
    {
     "data": {
      "image/png": "[encoded data removed]",
      "text/plain": [
       "<Figure size 640x480 with 1 Axes>"
      ]
     },
     "metadata": {},
     "output_type": "display_data"
    }
   ],
   "source": [
    "sns.boxplot(x = rfm['Cluster ID'], y = rfm['Frequency'])"
   ]
  },
  {
   "cell_type": "code",
   "execution_count": 23,
   "metadata": {},
   "outputs": [
    {
     "data": {
      "text/plain": [
       "<Axes: xlabel='Cluster ID', ylabel='Monetary'>"
      ]
     },
     "execution_count": 23,
     "metadata": {},
     "output_type": "execute_result"
    },
    {
     "data": {
      "image/png": "[encoded data removed]",
      "text/plain": [
       "<Figure size 640x480 with 1 Axes>"
      ]
     },
     "metadata": {},
     "output_type": "display_data"
    }
   ],
   "source": [
    "sns.boxplot(x = rfm['Cluster ID'], y = rfm['Monetary'])"
   ]
  },
  {
   "cell_type": "markdown",
   "metadata": {},
   "source": [
    "Tính RFM_SCORE"
   ]
  },
  {
   "cell_type": "code",
   "execution_count": 24,
   "metadata": {},
   "outputs": [],
   "source": [
    "# Tính điểm các giá trị Recency, Frequency và Monetary\n",
    "rfm[\"RecencyScore\"] = pd.qcut(rfm[\"Recency\"], 5, labels = [5, 4 , 3, 2, 1])\n",
    "rfm[\"FrequencyScore\"]= pd.qcut(rfm[\"Frequency\"].rank(method=\"first\"),5, labels=[1,2,3,4,5])\n",
    "rfm[\"MonetaryScore\"] = pd.qcut(rfm['Monetary'], 5, labels = [1, 2, 3, 4, 5])"
   ]
  },
  {
   "cell_type": "code",
   "execution_count": 25,
   "metadata": {},
   "outputs": [
    {
     "data": {
      "text/html": [
       "<div>\n",
       "<style scoped>\n",
       "    .dataframe tbody tr th:only-of-type {\n",
       "        vertical-align: middle;\n",
       "    }\n",
       "\n",
       "    .dataframe tbody tr th {\n",
       "        vertical-align: top;\n",
       "    }\n",
       "\n",
       "    .dataframe thead th {\n",
       "        text-align: right;\n",
       "    }\n",
       "</style>\n",
       "<table border=\"1\" class=\"dataframe\">\n",
       "  <thead>\n",
       "    <tr style=\"text-align: right;\">\n",
       "      <th></th>\n",
       "      <th>Customer ID</th>\n",
       "      <th>Recency</th>\n",
       "      <th>Frequency</th>\n",
       "      <th>Monetary</th>\n",
       "      <th>Cluster ID</th>\n",
       "      <th>RecencyScore</th>\n",
       "      <th>FrequencyScore</th>\n",
       "      <th>MonetaryScore</th>\n",
       "      <th>RFM_SCORE</th>\n",
       "    </tr>\n",
       "  </thead>\n",
       "  <tbody>\n",
       "    <tr>\n",
       "      <th>1</th>\n",
       "      <td>CUS0000577</td>\n",
       "      <td>383</td>\n",
       "      <td>5</td>\n",
       "      <td>2592129.0</td>\n",
       "      <td>2</td>\n",
       "      <td>3</td>\n",
       "      <td>3</td>\n",
       "      <td>5</td>\n",
       "      <td>335</td>\n",
       "    </tr>\n",
       "    <tr>\n",
       "      <th>2</th>\n",
       "      <td>CUS0001401</td>\n",
       "      <td>487</td>\n",
       "      <td>12</td>\n",
       "      <td>3503699.0</td>\n",
       "      <td>0</td>\n",
       "      <td>2</td>\n",
       "      <td>5</td>\n",
       "      <td>5</td>\n",
       "      <td>255</td>\n",
       "    </tr>\n",
       "    <tr>\n",
       "      <th>3</th>\n",
       "      <td>CUS0002484</td>\n",
       "      <td>119</td>\n",
       "      <td>3</td>\n",
       "      <td>748611.0</td>\n",
       "      <td>2</td>\n",
       "      <td>4</td>\n",
       "      <td>2</td>\n",
       "      <td>2</td>\n",
       "      <td>422</td>\n",
       "    </tr>\n",
       "    <tr>\n",
       "      <th>4</th>\n",
       "      <td>CUS0002582</td>\n",
       "      <td>490</td>\n",
       "      <td>3</td>\n",
       "      <td>1604195.0</td>\n",
       "      <td>1</td>\n",
       "      <td>2</td>\n",
       "      <td>2</td>\n",
       "      <td>3</td>\n",
       "      <td>223</td>\n",
       "    </tr>\n",
       "    <tr>\n",
       "      <th>5</th>\n",
       "      <td>CUS0002739</td>\n",
       "      <td>122</td>\n",
       "      <td>3</td>\n",
       "      <td>991018.0</td>\n",
       "      <td>2</td>\n",
       "      <td>4</td>\n",
       "      <td>2</td>\n",
       "      <td>2</td>\n",
       "      <td>422</td>\n",
       "    </tr>\n",
       "  </tbody>\n",
       "</table>\n",
       "</div>"
      ],
      "text/plain": [
       "  Customer ID  Recency  Frequency   Monetary  Cluster ID RecencyScore   \n",
       "1  CUS0000577      383          5  2592129.0           2            3  \\\n",
       "2  CUS0001401      487         12  3503699.0           0            2   \n",
       "3  CUS0002484      119          3   748611.0           2            4   \n",
       "4  CUS0002582      490          3  1604195.0           1            2   \n",
       "5  CUS0002739      122          3   991018.0           2            4   \n",
       "\n",
       "  FrequencyScore MonetaryScore RFM_SCORE  \n",
       "1              3             5       335  \n",
       "2              5             5       255  \n",
       "3              2             2       422  \n",
       "4              2             3       223  \n",
       "5              2             2       422  "
      ]
     },
     "execution_count": 25,
     "metadata": {},
     "output_type": "execute_result"
    }
   ],
   "source": [
    "# RFM_SCORE\n",
    "rfm[\"RFM_SCORE\"] = (rfm['RecencyScore'].astype(str) + \n",
    "                     rfm['FrequencyScore'].astype(str) + \n",
    "                     rfm['MonetaryScore'].astype(str))\n",
    "\n",
    "rfm.head()"
   ]
  },
  {
   "cell_type": "code",
   "execution_count": 26,
   "metadata": {},
   "outputs": [],
   "source": [
    "# Phân nhóm khách hàng dựa vào RFM_SCORE\n",
    "seg_map = {\n",
    "    r'[1-2][1-2]': 'Hibernating',\n",
    "    r'[1-2][3-4]': 'At Risk',\n",
    "    r'[1-2]5': 'Can\\'t Loose',\n",
    "    r'3[1-2]': 'About to Sleep',\n",
    "    r'33': 'Need Attention',\n",
    "    r'[3-4][4-5]': 'Loyal Customers',\n",
    "    r'41': 'Promising',\n",
    "    r'51': 'New Customers',\n",
    "    r'[4-5][2-3]': 'Potential Loyalists',\n",
    "    r'5[4-5]': 'Champions'\n",
    "}\n",
    "\n",
    "rfm['Segment'] = rfm['RecencyScore'].astype(str) + rfm['FrequencyScore'].astype(str)\n",
    "rfm['Segment'] = rfm['Segment'].replace(seg_map, regex=True)"
   ]
  },
  {
   "cell_type": "code",
   "execution_count": 27,
   "metadata": {},
   "outputs": [],
   "source": [
    "# Nhóm lại cột Segment\n",
    "def map_segment_to_group(segment):\n",
    "    if segment in ['Champions', 'Loyal Customers']:\n",
    "        return 'Khách hàng tốt nhất'\n",
    "    elif segment in [\"Can't Loose\", 'Potential Loyalists']:\n",
    "        return 'Khách hàng chi tiêu lớn'\n",
    "    elif segment in ['About to Sleep', 'Promising']:\n",
    "        return 'Khách hàng thân thiết'\n",
    "    elif segment in ['New Customers', 'At Risk']:\n",
    "        return 'Khách hàng tiềm năng'\n",
    "    elif segment in ['Hibernating', 'Need Attention']:\n",
    "        return 'Khách hàng không tiềm năng'\n",
    "\n",
    "rfm['New Segment'] = rfm['Segment'].apply(map_segment_to_group)"
   ]
  },
  {
   "cell_type": "code",
   "execution_count": 28,
   "metadata": {},
   "outputs": [
    {
     "data": {
      "text/html": [
       "<div>\n",
       "<style scoped>\n",
       "    .dataframe tbody tr th:only-of-type {\n",
       "        vertical-align: middle;\n",
       "    }\n",
       "\n",
       "    .dataframe tbody tr th {\n",
       "        vertical-align: top;\n",
       "    }\n",
       "\n",
       "    .dataframe thead tr th {\n",
       "        text-align: left;\n",
       "    }\n",
       "\n",
       "    .dataframe thead tr:last-of-type th {\n",
       "        text-align: right;\n",
       "    }\n",
       "</style>\n",
       "<table border=\"1\" class=\"dataframe\">\n",
       "  <thead>\n",
       "    <tr>\n",
       "      <th></th>\n",
       "      <th colspan=\"3\" halign=\"left\">Recency</th>\n",
       "      <th colspan=\"3\" halign=\"left\">Frequency</th>\n",
       "      <th colspan=\"3\" halign=\"left\">Monetary</th>\n",
       "    </tr>\n",
       "    <tr>\n",
       "      <th></th>\n",
       "      <th>mean</th>\n",
       "      <th>count</th>\n",
       "      <th>sum</th>\n",
       "      <th>mean</th>\n",
       "      <th>count</th>\n",
       "      <th>sum</th>\n",
       "      <th>mean</th>\n",
       "      <th>count</th>\n",
       "      <th>sum</th>\n",
       "    </tr>\n",
       "    <tr>\n",
       "      <th>New Segment</th>\n",
       "      <th></th>\n",
       "      <th></th>\n",
       "      <th></th>\n",
       "      <th></th>\n",
       "      <th></th>\n",
       "      <th></th>\n",
       "      <th></th>\n",
       "      <th></th>\n",
       "      <th></th>\n",
       "    </tr>\n",
       "  </thead>\n",
       "  <tbody>\n",
       "    <tr>\n",
       "      <th>Khách hàng chi tiêu lớn</th>\n",
       "      <td>263.107066</td>\n",
       "      <td>934</td>\n",
       "      <td>245742</td>\n",
       "      <td>5.773019</td>\n",
       "      <td>934</td>\n",
       "      <td>5392</td>\n",
       "      <td>1.723698e+06</td>\n",
       "      <td>934</td>\n",
       "      <td>1.609934e+09</td>\n",
       "    </tr>\n",
       "    <tr>\n",
       "      <th>Khách hàng không tiềm năng</th>\n",
       "      <td>591.855803</td>\n",
       "      <td>853</td>\n",
       "      <td>504853</td>\n",
       "      <td>2.841735</td>\n",
       "      <td>853</td>\n",
       "      <td>2424</td>\n",
       "      <td>1.105391e+06</td>\n",
       "      <td>853</td>\n",
       "      <td>9.428988e+08</td>\n",
       "    </tr>\n",
       "    <tr>\n",
       "      <th>Khách hàng thân thiết</th>\n",
       "      <td>277.997881</td>\n",
       "      <td>472</td>\n",
       "      <td>131215</td>\n",
       "      <td>1.896186</td>\n",
       "      <td>472</td>\n",
       "      <td>895</td>\n",
       "      <td>7.617520e+05</td>\n",
       "      <td>472</td>\n",
       "      <td>3.595470e+08</td>\n",
       "    </tr>\n",
       "    <tr>\n",
       "      <th>Khách hàng tiềm năng</th>\n",
       "      <td>577.785623</td>\n",
       "      <td>779</td>\n",
       "      <td>450095</td>\n",
       "      <td>5.187420</td>\n",
       "      <td>779</td>\n",
       "      <td>4041</td>\n",
       "      <td>1.676503e+06</td>\n",
       "      <td>779</td>\n",
       "      <td>1.305996e+09</td>\n",
       "    </tr>\n",
       "    <tr>\n",
       "      <th>Khách hàng tốt nhất</th>\n",
       "      <td>153.675917</td>\n",
       "      <td>1009</td>\n",
       "      <td>155059</td>\n",
       "      <td>9.108028</td>\n",
       "      <td>1009</td>\n",
       "      <td>9190</td>\n",
       "      <td>2.544343e+06</td>\n",
       "      <td>1009</td>\n",
       "      <td>2.567242e+09</td>\n",
       "    </tr>\n",
       "  </tbody>\n",
       "</table>\n",
       "</div>"
      ],
      "text/plain": [
       "                               Recency               Frequency               \n",
       "                                  mean count     sum      mean count   sum   \n",
       "New Segment                                                                  \n",
       "Khách hàng chi tiêu lớn     263.107066   934  245742  5.773019   934  5392  \\\n",
       "Khách hàng không tiềm năng  591.855803   853  504853  2.841735   853  2424   \n",
       "Khách hàng thân thiết       277.997881   472  131215  1.896186   472   895   \n",
       "Khách hàng tiềm năng        577.785623   779  450095  5.187420   779  4041   \n",
       "Khách hàng tốt nhất         153.675917  1009  155059  9.108028  1009  9190   \n",
       "\n",
       "                                Monetary                      \n",
       "                                    mean count           sum  \n",
       "New Segment                                                   \n",
       "Khách hàng chi tiêu lớn     1.723698e+06   934  1.609934e+09  \n",
       "Khách hàng không tiềm năng  1.105391e+06   853  9.428988e+08  \n",
       "Khách hàng thân thiết       7.617520e+05   472  3.595470e+08  \n",
       "Khách hàng tiềm năng        1.676503e+06   779  1.305996e+09  \n",
       "Khách hàng tốt nhất         2.544343e+06  1009  2.567242e+09  "
      ]
     },
     "execution_count": 28,
     "metadata": {},
     "output_type": "execute_result"
    }
   ],
   "source": [
    "rfm[[\"New Segment\",\"Recency\", \"Frequency\", \"Monetary\"]].groupby(\"New Segment\").agg([\"mean\", \"count\",\"sum\"])"
   ]
  },
  {
   "cell_type": "code",
   "execution_count": 29,
   "metadata": {},
   "outputs": [],
   "source": [
    "# Tạo các khoảng thời gian \n",
    "bins = [0, 90, 180, 270, float('inf')]\n",
    "labels = ['Dưới 3 tháng', 'Từ 3 đến 6 tháng', 'Từ 6 đến 9 tháng', 'Từ 9 đến 12 tháng']\n",
    "# Thêm cột mới 'R Type' vào df\n",
    "rfm['R Type'] = pd.cut(rfm['Recency'], bins=bins, labels=labels, right=False)\n",
    "\n",
    "# Tạo các khoảng tần suất\n",
    "bins = [1, 3, 6, 9, float('inf')]\n",
    "labels = ['Từ 1 đến 3 lần', 'Từ 3 đến 6 lần', 'Từ 6 đến 9 lần', 'Trên 9 lần']\n",
    "# Thêm cột mới 'F Type' vào df\n",
    "rfm['F Type'] = pd.cut(rfm['Frequency'], bins=bins, labels=labels, right=False)\n",
    "\n",
    "# Tạo các khoảng mức giá\n",
    "bins = [0, 1000000, 2000000, 3000000, float('inf')]\n",
    "labels = ['Dưới 1 000 000', 'Từ 1 000 000 đến 2 000 000', 'Từ 2 000 000 đến 3 000 000', 'Trên 3 000 000']\n",
    "# Thêm cột mới 'M Type' vào df\n",
    "rfm['M Type'] = pd.cut(rfm['Monetary'], bins=bins, labels=labels, right=False)"
   ]
  },
  {
   "cell_type": "code",
   "execution_count": 31,
   "metadata": {},
   "outputs": [],
   "source": [
    "# Lấy giá trị gần nhất cột 'Date Created' của df_off\n",
    "recent_date = df.groupby('Customer ID')['Date Created'].max().reset_index()\n",
    "\n",
    "# Merge rfm với recent_date\n",
    "rfm = pd.merge(rfm, recent_date, on=\"Customer ID\")\n",
    "\n",
    "# Tính tổng doanh thu theo \"Customer ID\"\n",
    "total_revenue = df.groupby('Customer ID')['Doanh thu chưa thuế'].sum().reset_index()\n",
    "\n",
    "# Merge rfm với total_revenue\n",
    "rfm = pd.merge(rfm, total_revenue, on='Customer ID')"
   ]
  },
  {
   "cell_type": "code",
   "execution_count": 32,
   "metadata": {},
   "outputs": [],
   "source": [
    "# Xuất ra file csv\n",
    "rfm.to_csv(r'D:\\TTTN\\CODE\\Data Fixed\\rfm.csv', index=False, encoding='utf-8-sig')"
   ]
  }
 ],
 "metadata": {
  "kernelspec": {
   "display_name": "Python 3",
   "language": "python",
   "name": "python3"
  },
  "language_info": {
   "codemirror_mode": {
    "name": "ipython",
    "version": 3
   },
   "file_extension": ".py",
   "mimetype": "text/x-python",
   "name": "python",
   "nbconvert_exporter": "python",
   "pygments_lexer": "ipython3",
   "version": "3.8.0"
  }
 },
 "nbformat": 4,
 "nbformat_minor": 2
}
